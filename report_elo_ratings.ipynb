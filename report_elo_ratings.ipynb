{
  "nbformat": 4,
  "nbformat_minor": 0,
  "metadata": {
    "colab": {
      "name": "report_elo_ratings.ipynb",
      "provenance": [],
      "authorship_tag": "ABX9TyM5dKF/znk3Wz4YFGtHT1/M",
      "include_colab_link": true
    },
    "kernelspec": {
      "name": "python3",
      "display_name": "Python 3"
    },
    "language_info": {
      "name": "python"
    }
  },
  "cells": [
    {
      "cell_type": "markdown",
      "metadata": {
        "id": "view-in-github",
        "colab_type": "text"
      },
      "source": [
        "<a href=\"https://colab.research.google.com/github/microprediction/precise/blob/main/report_elo_ratings.ipynb\" target=\"_parent\"><img src=\"https://colab.research.google.com/assets/colab-badge.svg\" alt=\"Open In Colab\"/></a>"
      ]
    },
    {
      "cell_type": "code",
      "execution_count": null,
      "metadata": {
        "id": "SIHJnIVINZ7b"
      },
      "outputs": [],
      "source": [
        "!pip install git+https://github.com/microprediction/precise.git"
      ]
    },
    {
      "cell_type": "markdown",
      "source": [
        "### Report current Elo ratings\n",
        "Be a little patient"
      ],
      "metadata": {
        "id": "Cd0J8WX-RelH"
      }
    },
    {
      "cell_type": "code",
      "source": [
        "from precise.skatervaluation.battleutil.compilingeloratings import elo_from_win_files\n",
        "from pprint import pprint \n",
        "elos = elo_from_win_files()"
      ],
      "metadata": {
        "id": "Qy-f0jV3NkGn"
      },
      "execution_count": null,
      "outputs": []
    },
    {
      "cell_type": "code",
      "source": [
        "pprint(elos)"
      ],
      "metadata": {
        "colab": {
          "base_uri": "https://localhost:8080/"
        },
        "id": "JMz5kyDwSR_f",
        "outputId": "c12ed37e-cda5-4131-aa73-3d6c93c23820"
      },
      "execution_count": 8,
      "outputs": [
        {
          "output_type": "stream",
          "name": "stdout",
          "text": [
            "[('m6_stocks_daily_p25_n300',\n",
            "  Counter({'ewa_pm_emp_scov_r01': 2744.1520985266347,\n",
            "           'ewa_pm_emp_scov_r01_t0': 2710.909594097293,\n",
            "           'run_emp_pcov_d0': 2496.8455667462395,\n",
            "           'ewa_emp_pcov_d0_r01': 2488.2424904100026,\n",
            "           'buf_sk_ld_pcov_d0_n100': 2336.9172204714428,\n",
            "           'buf_sk_glcv_pcov_d0_n100': 2235.648780779882,\n",
            "           'buf_huber_pcov_d0_a1_b5_n200': 2198.6289752605503,\n",
            "           'buf_sk_oas_pcov_d0_n100': 2168.5643526090116,\n",
            "           'buf_huber_pcov_d0_a05_b2_n200': 2100.598706860405,\n",
            "           'buf_huber_pcov_d0_a1_b2_n200': 1981.561832786279,\n",
            "           'ewa_pm_emp_scov_r02': 1841.7801573734566,\n",
            "           'ewa_pm_emp_scov_r02_t0': 1808.770865939803,\n",
            "           'ewa_emp_pcov_d0_r02': 1783.7622091893495,\n",
            "           'ewa_lz_scov_d0_rg005_rl02_n50': 1666.5897651502162,\n",
            "           'ewa_lz_scov_d0_rg01_rl01_n100': 1611.9841957441724,\n",
            "           'buf_sk_emp_pcov_d0_n100': 1603.8267235813466,\n",
            "           'buf_emp_pcov_d0_n100': 1577.5793237695973,\n",
            "           'buf_huber_pcov_d0_a1_b5_n100': 1518.0187971231117,\n",
            "           'buf_huber_pcov_d0_a05_b2_n100': 1451.9634062231785,\n",
            "           'buf_huber_pcov_d0_a1_b2_n100': 1371.0266130514963,\n",
            "           'ewa_lz_scov_d0_rg005_rl01_n100': 1256.3622383846016,\n",
            "           'buf_sk_gl_pcov_d0_n100': 1243.9643662959081,\n",
            "           'ewa_lw_scov_d0_r01': 1154.5915043714288,\n",
            "           'ewa_lw_scov_d0_r02': 1057.2806397699148,\n",
            "           'ewa_pm_emp_scov_r05_t0': 939.5459893655272,\n",
            "           'ewa_pm_emp_scov_r05': 899.4887519227307,\n",
            "           'buf_emp_pcov_d0_n20': 899.025559543628,\n",
            "           'ewa_emp_pcov_d0_r05': 846.094939311473,\n",
            "           'buf_emp_pcov_d0_n50': 727.1434315042188,\n",
            "           'buf_huber_pcov_d0_a1_b5_n50': 668.4559741672267,\n",
            "           'buf_huber_pcov_d0_a05_b2_n50': 584.1945925961423,\n",
            "           'buf_huber_pcov_d0_a1_b2_n50': 470.44226622795725,\n",
            "           'buf_sk_mcd_pcov_d0_n100': 373.34019023603184,\n",
            "           'ewa_emp_pcov_d0_r10': 182.69788060973474}))]\n"
          ]
        }
      ]
    },
    {
      "cell_type": "markdown",
      "source": [
        "## Print Elos and code locations"
      ],
      "metadata": {
        "id": "jOL4sI47R1vD"
      }
    },
    {
      "cell_type": "code",
      "source": [
        "from precise.whereami import url_from_skater_name\n",
        "n_top = 5 # <-- Number to print per category\n",
        "for cat, cat_elos in elos:\n",
        "    elos_w_code = sorted( [ (rating,name, url_from_skater_name(name)) for name,rating in cat_elos.items()],reverse=True)[:n_top]\n",
        "    pprint(elos_w_code)"
      ],
      "metadata": {
        "colab": {
          "base_uri": "https://localhost:8080/"
        },
        "id": "ASbpDgVpR4_6",
        "outputId": "c9a1a4d1-9cda-4c97-ca35-b5149fa9dd67"
      },
      "execution_count": 17,
      "outputs": [
        {
          "output_type": "stream",
          "name": "stdout",
          "text": [
            "[(2744.1520985266347,\n",
            "  'ewa_pm_emp_scov_r01',\n",
            "  'https://github.com/microprediction/precise/blob/main/precise/skaters/covariance/ewapm.py'),\n",
            " (2710.909594097293,\n",
            "  'ewa_pm_emp_scov_r01_t0',\n",
            "  'https://github.com/microprediction/precise/blob/main/precise/skaters/covariance/ewapm.py'),\n",
            " (2496.8455667462395,\n",
            "  'run_emp_pcov_d0',\n",
            "  'https://github.com/microprediction/precise/blob/main/precise/skaters/covariance/runemp.py'),\n",
            " (2488.2424904100026,\n",
            "  'ewa_emp_pcov_d0_r01',\n",
            "  'https://github.com/microprediction/precise/blob/main/precise/skaters/covariance/ewaemp.py'),\n",
            " (2336.9172204714428,\n",
            "  'buf_sk_ld_pcov_d0_n100',\n",
            "  'https://github.com/microprediction/precise/blob/main/precise/skaters/covariance/bufsk.py')]\n"
          ]
        }
      ]
    }
  ]
}