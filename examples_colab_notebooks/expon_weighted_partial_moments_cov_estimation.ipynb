{
  "nbformat": 4,
  "nbformat_minor": 0,
  "metadata": {
    "colab": {
      "name": "expon_weighted_partial_moments_cov_estimation.ipynb",
      "provenance": [],
      "authorship_tag": "ABX9TyNWvqIeuENOVE70C3EZcsgX",
      "include_colab_link": true
    },
    "kernelspec": {
      "name": "python3",
      "display_name": "Python 3"
    },
    "language_info": {
      "name": "python"
    }
  },
  "cells": [
    {
      "cell_type": "markdown",
      "metadata": {
        "id": "view-in-github",
        "colab_type": "text"
      },
      "source": [
        "<a href=\"https://colab.research.google.com/github/microprediction/precise/blob/main/examples_colab_notebooks/expon_weighted_partial_moments_cov_estimation.ipynb\" target=\"_parent\"><img src=\"https://colab.research.google.com/assets/colab-badge.svg\" alt=\"Open In Colab\"/></a>"
      ]
    },
    {
      "cell_type": "code",
      "execution_count": null,
      "metadata": {
        "id": "U6Mky28wX5y8"
      },
      "outputs": [],
      "source": [
        "!pip install git+https://github.com/microprediction/precise.git"
      ]
    },
    {
      "cell_type": "markdown",
      "source": [
        "Illustrates use of the precise package\n",
        "\n",
        "\n",
        "\n",
        "1.   Pick a skater\n",
        "2.   Run it\n",
        "\n"
      ],
      "metadata": {
        "id": "fY3DQOlwX-MU"
      }
    },
    {
      "cell_type": "code",
      "source": [
        "from precise.skatertools.syntheticdata.miscellaneous import create_correlated_dataset\n",
        "from precise.skaters.covariance.ewapm import ewa_pm_emp_scov_r01 # <- skater\n",
        "from pprint import pprint\n",
        "\n",
        "if __name__=='__main__':\n",
        "    ys = create_correlated_dataset(n=500)\n",
        "    s = {}   # <-- Note the initialization of state as empty dict\n",
        "    for y in ys:\n",
        "        x, x_cov, s = ewa_pm_emp_scov_r01(s=s, y=y)\n",
        "    pprint(x_cov)"
      ],
      "metadata": {
        "colab": {
          "base_uri": "https://localhost:8080/"
        },
        "id": "Gbi01UFRYJwb",
        "outputId": "a8accdd1-3f49-4080-fcbb-40208b247d3c"
      },
      "execution_count": 14,
      "outputs": [
        {
          "output_type": "stream",
          "name": "stdout",
          "text": [
            "array([[ 5.12896239, 10.85547503,  3.79888203],\n",
            "       [10.85547503, 29.63754017, 13.93654593],\n",
            "       [ 3.79888203, 13.93654593,  8.31146122]])\n"
          ]
        }
      ]
    },
    {
      "cell_type": "markdown",
      "source": [
        "If you care to peek you can look at the state too. In particular, this skater maintains four different covariance matrices using data conditioned on up/down moves. "
      ],
      "metadata": {
        "id": "M2UPPFKeYcTj"
      }
    },
    {
      "cell_type": "code",
      "source": [
        "partials = ['cu','du','dl','cl']\n",
        "for pt in partials:\n",
        "  pprint((pt,s[pt]['scov'])) # <-- Partial sample covariance "
      ],
      "metadata": {
        "colab": {
          "base_uri": "https://localhost:8080/"
        },
        "id": "G2Klm0PPYbUL",
        "outputId": "69452018-3f78-4759-877c-c7e9d954bae6"
      },
      "execution_count": 12,
      "outputs": [
        {
          "output_type": "stream",
          "name": "stdout",
          "text": [
            "('cu',\n",
            " array([[ 5.45911923, 12.51927063,  5.27220785],\n",
            "       [12.51927063, 32.6342698 , 14.92104009],\n",
            "       [ 5.27220785, 14.92104009,  7.46873048]]))\n",
            "('du',\n",
            " array([[ 0.        ,  0.        ,  0.        ],\n",
            "       [-0.10545553,  0.00139871,  0.00269523],\n",
            "       [-0.49235465, -0.1743864 ,  0.00976907]]))\n",
            "('dl',\n",
            " array([[ 0.09095655,  0.09051711, -0.41125336],\n",
            "       [ 0.19597264,  0.4899051 ,  0.04768843],\n",
            "       [ 0.0811013 ,  0.22477006,  0.11572808]]))\n",
            "('cl',\n",
            " array([[0.        , 0.        , 0.        ],\n",
            "       [0.        , 0.17181845, 0.24622561],\n",
            "       [0.        , 0.24622561, 0.64839917]]))\n"
          ]
        }
      ]
    },
    {
      "cell_type": "code",
      "source": [
        "# The reported cov estimate is almost the sum of these four\n",
        "import numpy as np \n",
        "c_check = np.zeros((3,3))\n",
        "for pt in partials:\n",
        "  c_check = c_check + s[pt]['scov']\n",
        "pprint(c_check)\n",
        "print(c_check/x_cov)"
      ],
      "metadata": {
        "colab": {
          "base_uri": "https://localhost:8080/"
        },
        "id": "C92FvAgXbK8T",
        "outputId": "4614e31c-567b-4125-d86a-12f77dc0b80d"
      },
      "execution_count": 13,
      "outputs": [
        {
          "output_type": "stream",
          "name": "stdout",
          "text": [
            "array([[ 5.55007578, 12.60978774,  4.86095449],\n",
            "       [12.60978774, 33.29739207, 15.21764935],\n",
            "       [ 4.86095449, 15.21764935,  8.2426268 ]])\n",
            "[[1. 1. 1.]\n",
            " [1. 1. 1.]\n",
            " [1. 1. 1.]]\n"
          ]
        }
      ]
    },
    {
      "cell_type": "code",
      "source": [
        ""
      ],
      "metadata": {
        "id": "I1Q6B70wb5nN"
      },
      "execution_count": null,
      "outputs": []
    }
  ]
}
