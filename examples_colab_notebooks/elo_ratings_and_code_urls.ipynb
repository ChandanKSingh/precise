{
  "nbformat": 4,
  "nbformat_minor": 0,
  "metadata": {
    "colab": {
      "name": "elo_ratings_and_code_urls.ipynb",
      "provenance": [],
      "authorship_tag": "ABX9TyOn7972shpERxb+yssB4/aB",
      "include_colab_link": true
    },
    "kernelspec": {
      "name": "python3",
      "display_name": "Python 3"
    },
    "language_info": {
      "name": "python"
    }
  },
  "cells": [
    {
      "cell_type": "markdown",
      "metadata": {
        "id": "view-in-github",
        "colab_type": "text"
      },
      "source": [
        "<a href=\"https://colab.research.google.com/github/microprediction/precise/blob/main/examples_colab_notebooks/elo_ratings_and_code_urls.ipynb\" target=\"_parent\"><img src=\"https://colab.research.google.com/assets/colab-badge.svg\" alt=\"Open In Colab\"/></a>"
      ]
    },
    {
      "cell_type": "code",
      "execution_count": null,
      "metadata": {
        "id": "SIHJnIVINZ7b"
      },
      "outputs": [],
      "source": [
        "!pip install git+https://github.com/microprediction/precise.git"
      ]
    },
    {
      "cell_type": "markdown",
      "source": [
        "### Report current Elo ratings\n",
        "Be a little patient"
      ],
      "metadata": {
        "id": "Cd0J8WX-RelH"
      }
    },
    {
      "cell_type": "code",
      "source": [
        "from precise.skatervaluation.battleutil.compilingeloratings import elo_from_win_files\n",
        "from pprint import pprint \n",
        "elos = elo_from_win_files()"
      ],
      "metadata": {
        "id": "Qy-f0jV3NkGn"
      },
      "execution_count": 2,
      "outputs": []
    },
    {
      "cell_type": "code",
      "source": [
        "the_categories = [c for c,_ in elos]\n",
        "print(the_categories)"
      ],
      "metadata": {
        "colab": {
          "base_uri": "https://localhost:8080/"
        },
        "id": "61YqUwxpUnMy",
        "outputId": "65eb557f-c59f-4b64-a3b3-e05454ad89d7"
      },
      "execution_count": 3,
      "outputs": [
        {
          "output_type": "stream",
          "name": "stdout",
          "text": [
            "['m6_stocks_daily_p5_n300', 'm6_stocks_daily_p25_n300']\n"
          ]
        }
      ]
    },
    {
      "cell_type": "code",
      "source": [
        "pprint(elos)"
      ],
      "metadata": {
        "colab": {
          "base_uri": "https://localhost:8080/"
        },
        "id": "JMz5kyDwSR_f",
        "outputId": "b122171d-54e0-45e0-d006-e11c3d06400b"
      },
      "execution_count": 4,
      "outputs": [
        {
          "output_type": "stream",
          "name": "stdout",
          "text": [
            "[('m6_stocks_daily_p5_n300',\n",
            "  Counter({'ewa_emp_pcov_d0_r01': 2056.6087587374086,\n",
            "           'ewa_pm_emp_scov_r01_n100': 1954.0837661784103,\n",
            "           'ewa_pm_emp_scov_r05_n25': 1905.7610157952174,\n",
            "           'run_emp_pcov_d0': 1894.3957237425514,\n",
            "           'buf_sk_oas_pcov_d0_n100': 1842.0186320913306,\n",
            "           'ewa_pm_emp_scov_r02_n100': 1837.154638779129,\n",
            "           'buf_sk_ld_pcov_d0_n100': 1820.407182355559,\n",
            "           'ewa_pm_emp_scov_r02_n50': 1804.1006153810833,\n",
            "           'ewa_emp_pcov_d0_r02': 1798.617879830803,\n",
            "           'ewa_pm_emp_scov_r01_n200': 1787.5194433255706,\n",
            "           'buf_huber_pcov_d0_a1_b5_n200': 1709.2004735451858,\n",
            "           'buf_huber_pcov_d0_a05_b2_n200': 1707.5336111329723,\n",
            "           'buf_sk_glcv_pcov_d0_n100': 1677.3680290493332,\n",
            "           'buf_huber_pcov_d0_a1_b2_n200': 1608.642726781999,\n",
            "           'buf_emp_pcov_d0_n100': 1605.385624256439,\n",
            "           'buf_huber_pcov_d0_a05_b2_n100': 1603.3185497067461,\n",
            "           'ewa_lz_scov_d0_rg005_rl02_n50': 1549.565568925084,\n",
            "           'buf_huber_pcov_d0_a1_b5_n100': 1545.4386003082366,\n",
            "           'buf_sk_emp_pcov_d0_n100': 1539.8952957762262,\n",
            "           'ewa_lz_scov_d0_rg01_rl01_n100': 1461.359115212977,\n",
            "           'buf_huber_pcov_d0_a1_b2_n100': 1450.0017911827445,\n",
            "           'buf_huber_pcov_d0_a1_b5_n50': 1399.021760418556,\n",
            "           'buf_emp_pcov_d0_n50': 1381.9364543882473,\n",
            "           'buf_huber_pcov_d0_a1_b2_n50': 1345.2670623606264,\n",
            "           'ewa_emp_pcov_d0_r05': 1319.4265598332431,\n",
            "           'ewa_pm_emp_scov_r05_n50': 1303.6093559992903,\n",
            "           'buf_huber_pcov_d0_a05_b2_n50': 1286.7739394154885,\n",
            "           'ewa_lw_scov_d0_r01': 1117.0980071844622,\n",
            "           'buf_sk_gl_pcov_d0_n100': 1112.432841438934,\n",
            "           'ewa_lw_scov_d0_r02': 1058.1841892033576,\n",
            "           'ewa_lz_scov_d0_rg005_rl01_n100': 1018.7900321788042,\n",
            "           'ewa_emp_pcov_d0_r10': 948.4170267806011,\n",
            "           'buf_sk_mcd_pcov_d0_n100': 834.9535552674776,\n",
            "           'buf_emp_pcov_d0_n20': 715.7121734359018})),\n",
            " ('m6_stocks_daily_p25_n300',\n",
            "  Counter({'ewa_pm_emp_scov_r01': 2732.22936367643,\n",
            "           'ewa_pm_emp_scov_r01_t0': 2709.528719653436,\n",
            "           'run_emp_pcov_d0': 2512.078531762425,\n",
            "           'ewa_emp_pcov_d0_r01': 2465.737542699477,\n",
            "           'buf_sk_ld_pcov_d0_n100': 2277.0504508222393,\n",
            "           'buf_sk_glcv_pcov_d0_n100': 2249.9436398567677,\n",
            "           'buf_sk_oas_pcov_d0_n100': 2148.3316741865924,\n",
            "           'buf_huber_pcov_d0_a1_b5_n200': 2142.241622630625,\n",
            "           'buf_huber_pcov_d0_a05_b2_n200': 2064.8778485595085,\n",
            "           'buf_huber_pcov_d0_a1_b2_n200': 1969.7978397075462,\n",
            "           'ewa_pm_emp_scov_r01_n200': 1945.4256956370284,\n",
            "           'ewa_pm_emp_scov_r02': 1807.4435381106084,\n",
            "           'ewa_pm_emp_scov_r01_n100': 1796.8631120663474,\n",
            "           'ewa_pm_emp_scov_r02_t0': 1791.7478625485694,\n",
            "           'ewa_emp_pcov_d0_r02': 1707.5871596282147,\n",
            "           'ewa_pm_emp_scov_r02_n100': 1695.1479743890993,\n",
            "           'ewa_pm_emp_scov_r05_n25': 1663.3797812319,\n",
            "           'ewa_lz_scov_d0_rg005_rl02_n50': 1627.557887408645,\n",
            "           'ewa_pm_emp_scov_r02_n50': 1626.357456352982,\n",
            "           'ewa_lz_scov_d0_rg01_rl01_n100': 1562.316798898744,\n",
            "           'buf_sk_emp_pcov_d0_n100': 1559.3892739986568,\n",
            "           'buf_emp_pcov_d0_n100': 1540.6004831838252,\n",
            "           'buf_huber_pcov_d0_a1_b5_n100': 1484.178035839985,\n",
            "           'buf_huber_pcov_d0_a05_b2_n100': 1379.142646173649,\n",
            "           'ewa_pm_emp_scov_r05_n50': 1347.7165350720716,\n",
            "           'buf_huber_pcov_d0_a1_b2_n100': 1327.9741007871182,\n",
            "           'ewa_lz_scov_d0_rg005_rl01_n100': 1227.7877211637701,\n",
            "           'buf_sk_gl_pcov_d0_n100': 1207.0093487269025,\n",
            "           'ewa_lw_scov_d0_r01': 1092.9738048355805,\n",
            "           'ewa_lw_scov_d0_r02': 1038.4908103394419,\n",
            "           'ewa_pm_emp_scov_r05_t0': 913.2771756209722,\n",
            "           'ewa_pm_emp_scov_r05': 868.6699509160666,\n",
            "           'buf_emp_pcov_d0_n20': 861.4166183843312,\n",
            "           'ewa_emp_pcov_d0_r05': 828.0670047432791,\n",
            "           'buf_emp_pcov_d0_n50': 716.9014742226427,\n",
            "           'buf_huber_pcov_d0_a1_b5_n50': 648.4846654029797,\n",
            "           'buf_huber_pcov_d0_a05_b2_n50': 557.0727665813296,\n",
            "           'buf_huber_pcov_d0_a1_b2_n50': 383.67163288967174,\n",
            "           'buf_sk_mcd_pcov_d0_n100': 370.5666066174874,\n",
            "           'ewa_emp_pcov_d0_r10': 150.96484467304845}))]\n"
          ]
        }
      ]
    },
    {
      "cell_type": "markdown",
      "source": [
        "## Print Elos and code locations"
      ],
      "metadata": {
        "id": "jOL4sI47R1vD"
      }
    },
    {
      "cell_type": "code",
      "source": [
        "from precise.whereami import url_from_skater_name\n",
        "n_top = 15 # <-- Number to print per category\n",
        "results_with_urls = dict()\n",
        "for cat, cat_elos in elos:\n",
        "    elos_w_code = sorted( [ (rating,name, url_from_skater_name(name)) for name,rating in cat_elos.items()],reverse=True)[:n_top]\n",
        "    results_with_urls[cat] = elos_w_code\n",
        "pprint(results_with_urls)"
      ],
      "metadata": {
        "colab": {
          "base_uri": "https://localhost:8080/"
        },
        "id": "ASbpDgVpR4_6",
        "outputId": "7bffa6e8-0cf4-4b5a-eb75-9df21339b97d"
      },
      "execution_count": 7,
      "outputs": [
        {
          "output_type": "stream",
          "name": "stdout",
          "text": [
            "{'m6_stocks_daily_p25_n300': [(2732.22936367643,\n",
            "                               'ewa_pm_emp_scov_r01',\n",
            "                               'https://github.com/microprediction/precise/blob/main/precise/skaters/covariance/ewapm.py'),\n",
            "                              (2709.528719653436,\n",
            "                               'ewa_pm_emp_scov_r01_t0',\n",
            "                               'https://github.com/microprediction/precise/blob/main/precise/skaters/covariance/ewapm.py'),\n",
            "                              (2512.078531762425,\n",
            "                               'run_emp_pcov_d0',\n",
            "                               'https://github.com/microprediction/precise/blob/main/precise/skaters/covariance/runemp.py'),\n",
            "                              (2465.737542699477,\n",
            "                               'ewa_emp_pcov_d0_r01',\n",
            "                               'https://github.com/microprediction/precise/blob/main/precise/skaters/covariance/ewaemp.py'),\n",
            "                              (2277.0504508222393,\n",
            "                               'buf_sk_ld_pcov_d0_n100',\n",
            "                               'https://github.com/microprediction/precise/blob/main/precise/skaters/covariance/bufsk.py'),\n",
            "                              (2249.9436398567677,\n",
            "                               'buf_sk_glcv_pcov_d0_n100',\n",
            "                               'https://github.com/microprediction/precise/blob/main/precise/skaters/covariance/bufsk.py'),\n",
            "                              (2148.3316741865924,\n",
            "                               'buf_sk_oas_pcov_d0_n100',\n",
            "                               'https://github.com/microprediction/precise/blob/main/precise/skaters/covariance/bufsk.py'),\n",
            "                              (2142.241622630625,\n",
            "                               'buf_huber_pcov_d0_a1_b5_n200',\n",
            "                               'https://github.com/microprediction/precise/blob/main/precise/skaters/covariance/bufhuber.py'),\n",
            "                              (2064.8778485595085,\n",
            "                               'buf_huber_pcov_d0_a05_b2_n200',\n",
            "                               'https://github.com/microprediction/precise/blob/main/precise/skaters/covariance/bufhuber.py'),\n",
            "                              (1969.7978397075462,\n",
            "                               'buf_huber_pcov_d0_a1_b2_n200',\n",
            "                               'https://github.com/microprediction/precise/blob/main/precise/skaters/covariance/bufhuber.py'),\n",
            "                              (1945.4256956370284,\n",
            "                               'ewa_pm_emp_scov_r01_n200',\n",
            "                               'https://github.com/microprediction/precise/blob/main/precise/skaters/covariance/ewapm.py'),\n",
            "                              (1807.4435381106084,\n",
            "                               'ewa_pm_emp_scov_r02',\n",
            "                               'https://github.com/microprediction/precise/blob/main/precise/skaters/covariance/ewapm.py'),\n",
            "                              (1796.8631120663474,\n",
            "                               'ewa_pm_emp_scov_r01_n100',\n",
            "                               'https://github.com/microprediction/precise/blob/main/precise/skaters/covariance/ewapm.py'),\n",
            "                              (1791.7478625485694,\n",
            "                               'ewa_pm_emp_scov_r02_t0',\n",
            "                               'https://github.com/microprediction/precise/blob/main/precise/skaters/covariance/ewapm.py'),\n",
            "                              (1707.5871596282147,\n",
            "                               'ewa_emp_pcov_d0_r02',\n",
            "                               'https://github.com/microprediction/precise/blob/main/precise/skaters/covariance/ewaemp.py')],\n",
            " 'm6_stocks_daily_p5_n300': [(2056.6087587374086,\n",
            "                              'ewa_emp_pcov_d0_r01',\n",
            "                              'https://github.com/microprediction/precise/blob/main/precise/skaters/covariance/ewaemp.py'),\n",
            "                             (1954.0837661784103,\n",
            "                              'ewa_pm_emp_scov_r01_n100',\n",
            "                              'https://github.com/microprediction/precise/blob/main/precise/skaters/covariance/ewapm.py'),\n",
            "                             (1905.7610157952174,\n",
            "                              'ewa_pm_emp_scov_r05_n25',\n",
            "                              'https://github.com/microprediction/precise/blob/main/precise/skaters/covariance/ewapm.py'),\n",
            "                             (1894.3957237425514,\n",
            "                              'run_emp_pcov_d0',\n",
            "                              'https://github.com/microprediction/precise/blob/main/precise/skaters/covariance/runemp.py'),\n",
            "                             (1842.0186320913306,\n",
            "                              'buf_sk_oas_pcov_d0_n100',\n",
            "                              'https://github.com/microprediction/precise/blob/main/precise/skaters/covariance/bufsk.py'),\n",
            "                             (1837.154638779129,\n",
            "                              'ewa_pm_emp_scov_r02_n100',\n",
            "                              'https://github.com/microprediction/precise/blob/main/precise/skaters/covariance/ewapm.py'),\n",
            "                             (1820.407182355559,\n",
            "                              'buf_sk_ld_pcov_d0_n100',\n",
            "                              'https://github.com/microprediction/precise/blob/main/precise/skaters/covariance/bufsk.py'),\n",
            "                             (1804.1006153810833,\n",
            "                              'ewa_pm_emp_scov_r02_n50',\n",
            "                              'https://github.com/microprediction/precise/blob/main/precise/skaters/covariance/ewapm.py'),\n",
            "                             (1798.617879830803,\n",
            "                              'ewa_emp_pcov_d0_r02',\n",
            "                              'https://github.com/microprediction/precise/blob/main/precise/skaters/covariance/ewaemp.py'),\n",
            "                             (1787.5194433255706,\n",
            "                              'ewa_pm_emp_scov_r01_n200',\n",
            "                              'https://github.com/microprediction/precise/blob/main/precise/skaters/covariance/ewapm.py'),\n",
            "                             (1709.2004735451858,\n",
            "                              'buf_huber_pcov_d0_a1_b5_n200',\n",
            "                              'https://github.com/microprediction/precise/blob/main/precise/skaters/covariance/bufhuber.py'),\n",
            "                             (1707.5336111329723,\n",
            "                              'buf_huber_pcov_d0_a05_b2_n200',\n",
            "                              'https://github.com/microprediction/precise/blob/main/precise/skaters/covariance/bufhuber.py'),\n",
            "                             (1677.3680290493332,\n",
            "                              'buf_sk_glcv_pcov_d0_n100',\n",
            "                              'https://github.com/microprediction/precise/blob/main/precise/skaters/covariance/bufsk.py'),\n",
            "                             (1608.642726781999,\n",
            "                              'buf_huber_pcov_d0_a1_b2_n200',\n",
            "                              'https://github.com/microprediction/precise/blob/main/precise/skaters/covariance/bufhuber.py'),\n",
            "                             (1605.385624256439,\n",
            "                              'buf_emp_pcov_d0_n100',\n",
            "                              'https://github.com/microprediction/precise/blob/main/precise/skaters/covariance/bufemp.py')]}\n"
          ]
        }
      ]
    }
  ]
}
