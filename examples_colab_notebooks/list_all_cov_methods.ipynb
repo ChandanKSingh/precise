{
  "nbformat": 4,
  "nbformat_minor": 0,
  "metadata": {
    "colab": {
      "name": "list_all_cov_methods.ipynb",
      "provenance": [],
      "authorship_tag": "ABX9TyNvEjE0t01CzeYRN1vgxESG",
      "include_colab_link": true
    },
    "kernelspec": {
      "name": "python3",
      "display_name": "Python 3"
    },
    "language_info": {
      "name": "python"
    }
  },
  "cells": [
    {
      "cell_type": "markdown",
      "metadata": {
        "id": "view-in-github",
        "colab_type": "text"
      },
      "source": [
        "<a href=\"https://colab.research.google.com/github/microprediction/precise/blob/main/examples_colab_notebooks/list_all_cov_methods.ipynb\" target=\"_parent\"><img src=\"https://colab.research.google.com/assets/colab-badge.svg\" alt=\"Open In Colab\"/></a>"
      ]
    },
    {
      "cell_type": "code",
      "execution_count": null,
      "metadata": {
        "id": "v-nV0Me7W-M6"
      },
      "outputs": [],
      "source": [
        "!pip install git+https://github.com/microprediction/precise.git"
      ]
    },
    {
      "cell_type": "markdown",
      "source": [
        "(package is pretty fluid so grab latest)"
      ],
      "metadata": {
        "id": "37tVjouhXJFm"
      }
    },
    {
      "cell_type": "code",
      "source": [
        "from pprint import pprint \n",
        "from precise.skaters.covariance.allcovskaters import cov_skater_manifest\n",
        "pprint(cov_skater_manifest())"
      ],
      "metadata": {
        "colab": {
          "base_uri": "https://localhost:8080/"
        },
        "id": "clyXxbhmXP9u",
        "outputId": "d65f0e8c-7a70-4ae3-8ea4-c85030f6c341"
      },
      "execution_count": 2,
      "outputs": [
        {
          "output_type": "stream",
          "name": "stdout",
          "text": [
            "{'buf_emp_pcov_d0_n100': 'https://github.com/microprediction/precise/blob/main/precise/skaters/covariance/bufemp.py',\n",
            " 'buf_emp_pcov_d0_n20': 'https://github.com/microprediction/precise/blob/main/precise/skaters/covariance/bufemp.py',\n",
            " 'buf_emp_pcov_d0_n50': 'https://github.com/microprediction/precise/blob/main/precise/skaters/covariance/bufemp.py',\n",
            " 'buf_emp_pcov_d1_n100': 'https://github.com/microprediction/precise/blob/main/precise/skaters/covariance/bufemp.py',\n",
            " 'buf_emp_pcov_d1_n20': 'https://github.com/microprediction/precise/blob/main/precise/skaters/covariance/bufemp.py',\n",
            " 'buf_huber_pcov_d0_a05_b2_n100': 'https://github.com/microprediction/precise/blob/main/precise/skaters/covariance/bufhuber.py',\n",
            " 'buf_huber_pcov_d0_a05_b2_n200': 'https://github.com/microprediction/precise/blob/main/precise/skaters/covariance/bufhuber.py',\n",
            " 'buf_huber_pcov_d0_a05_b2_n50': 'https://github.com/microprediction/precise/blob/main/precise/skaters/covariance/bufhuber.py',\n",
            " 'buf_huber_pcov_d0_a1_b2_n100': 'https://github.com/microprediction/precise/blob/main/precise/skaters/covariance/bufhuber.py',\n",
            " 'buf_huber_pcov_d0_a1_b2_n200': 'https://github.com/microprediction/precise/blob/main/precise/skaters/covariance/bufhuber.py',\n",
            " 'buf_huber_pcov_d0_a1_b2_n50': 'https://github.com/microprediction/precise/blob/main/precise/skaters/covariance/bufhuber.py',\n",
            " 'buf_huber_pcov_d0_a1_b5_n100': 'https://github.com/microprediction/precise/blob/main/precise/skaters/covariance/bufhuber.py',\n",
            " 'buf_huber_pcov_d0_a1_b5_n200': 'https://github.com/microprediction/precise/blob/main/precise/skaters/covariance/bufhuber.py',\n",
            " 'buf_huber_pcov_d0_a1_b5_n50': 'https://github.com/microprediction/precise/blob/main/precise/skaters/covariance/bufhuber.py',\n",
            " 'buf_huber_pcov_d1_a1_b2_n100': 'https://github.com/microprediction/precise/blob/main/precise/skaters/covariance/bufhuber.py',\n",
            " 'buf_huber_pcov_d1_a1_b2_n50': 'https://github.com/microprediction/precise/blob/main/precise/skaters/covariance/bufhuber.py',\n",
            " 'buf_sk_ec_pcov_d1_n100': 'https://github.com/microprediction/precise/blob/main/precise/skaters/covariance/bufsk.py',\n",
            " 'buf_sk_emp_pcov_d0_n100': 'https://github.com/microprediction/precise/blob/main/precise/skaters/covariance/bufsk.py',\n",
            " 'buf_sk_gl_pcov_d0_n100': 'https://github.com/microprediction/precise/blob/main/precise/skaters/covariance/bufsk.py',\n",
            " 'buf_sk_gl_pcov_d1_n100': 'https://github.com/microprediction/precise/blob/main/precise/skaters/covariance/bufsk.py',\n",
            " 'buf_sk_glcv_pcov_d0_n100': 'https://github.com/microprediction/precise/blob/main/precise/skaters/covariance/bufsk.py',\n",
            " 'buf_sk_glcv_pcov_d1_n100': 'https://github.com/microprediction/precise/blob/main/precise/skaters/covariance/bufsk.py',\n",
            " 'buf_sk_ld_pcov_d0_n100': 'https://github.com/microprediction/precise/blob/main/precise/skaters/covariance/bufsk.py',\n",
            " 'buf_sk_ld_pcov_d1_n100': 'https://github.com/microprediction/precise/blob/main/precise/skaters/covariance/bufsk.py',\n",
            " 'buf_sk_mcd_pcov_d0_n100': 'https://github.com/microprediction/precise/blob/main/precise/skaters/covariance/bufsk.py',\n",
            " 'buf_sk_mcd_pcov_d1_n100': 'https://github.com/microprediction/precise/blob/main/precise/skaters/covariance/bufsk.py',\n",
            " 'buf_sk_oas_pcov_d0_n100': 'https://github.com/microprediction/precise/blob/main/precise/skaters/covariance/bufsk.py',\n",
            " 'buf_sk_oas_pcov_d1_n100': 'https://github.com/microprediction/precise/blob/main/precise/skaters/covariance/bufsk.py',\n",
            " 'ewa_emp_pcov_d0_r01': 'https://github.com/microprediction/precise/blob/main/precise/skaters/covariance/ewaemp.py',\n",
            " 'ewa_emp_pcov_d0_r02': 'https://github.com/microprediction/precise/blob/main/precise/skaters/covariance/ewaemp.py',\n",
            " 'ewa_emp_pcov_d0_r05': 'https://github.com/microprediction/precise/blob/main/precise/skaters/covariance/ewaemp.py',\n",
            " 'ewa_emp_pcov_d0_r10': 'https://github.com/microprediction/precise/blob/main/precise/skaters/covariance/ewaemp.py',\n",
            " 'ewa_emp_pcov_d1_r01': 'https://github.com/microprediction/precise/blob/main/precise/skaters/covariance/ewaemp.py',\n",
            " 'ewa_emp_pcov_d1_r02': 'https://github.com/microprediction/precise/blob/main/precise/skaters/covariance/ewaemp.py',\n",
            " 'ewa_emp_pcov_d1_r05': 'https://github.com/microprediction/precise/blob/main/precise/skaters/covariance/ewaemp.py',\n",
            " 'ewa_emp_pcov_d1_r10': 'https://github.com/microprediction/precise/blob/main/precise/skaters/covariance/ewaemp.py',\n",
            " 'ewa_lw_scov_d0_r01': 'https://github.com/microprediction/precise/blob/main/precise/skaters/covariance/ewalw.py',\n",
            " 'ewa_lw_scov_d0_r02': 'https://github.com/microprediction/precise/blob/main/precise/skaters/covariance/ewalw.py',\n",
            " 'ewa_lw_scov_d1_r01': 'https://github.com/microprediction/precise/blob/main/precise/skaters/covariance/ewalw.py',\n",
            " 'ewa_lw_scov_d1_r02': 'https://github.com/microprediction/precise/blob/main/precise/skaters/covariance/ewalw.py',\n",
            " 'ewa_lz_scov_d0_rg005_rl01_n100': 'https://github.com/microprediction/precise/blob/main/precise/skaters/covariance/ewalz.py',\n",
            " 'ewa_lz_scov_d0_rg005_rl02_n50': 'https://github.com/microprediction/precise/blob/main/precise/skaters/covariance/ewalz.py',\n",
            " 'ewa_lz_scov_d0_rg01_rl01_n100': 'https://github.com/microprediction/precise/blob/main/precise/skaters/covariance/ewalz.py',\n",
            " 'ewa_pm_emp_scov_r01': 'https://github.com/microprediction/precise/blob/main/precise/skaters/covariance/ewapm.py',\n",
            " 'ewa_pm_emp_scov_r01_t0': 'https://github.com/microprediction/precise/blob/main/precise/skaters/covariance/ewapm.py',\n",
            " 'ewa_pm_emp_scov_r02': 'https://github.com/microprediction/precise/blob/main/precise/skaters/covariance/ewapm.py',\n",
            " 'ewa_pm_emp_scov_r02_t0': 'https://github.com/microprediction/precise/blob/main/precise/skaters/covariance/ewapm.py',\n",
            " 'ewa_pm_emp_scov_r05': 'https://github.com/microprediction/precise/blob/main/precise/skaters/covariance/ewapm.py',\n",
            " 'ewa_pm_emp_scov_r05_t0': 'https://github.com/microprediction/precise/blob/main/precise/skaters/covariance/ewapm.py',\n",
            " 'run_emp_pcov_d0': 'https://github.com/microprediction/precise/blob/main/precise/skaters/covariance/runemp.py',\n",
            " 'run_emp_pcov_d1': 'https://github.com/microprediction/precise/blob/main/precise/skaters/covariance/runemp.py'}\n"
          ]
        }
      ]
    }
  ]
}
