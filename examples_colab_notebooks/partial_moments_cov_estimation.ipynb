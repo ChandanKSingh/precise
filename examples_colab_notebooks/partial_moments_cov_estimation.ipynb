{
  "nbformat": 4,
  "nbformat_minor": 0,
  "metadata": {
    "colab": {
      "name": "expon_weighted_partial_moments_cov_estimation.ipynb",
      "provenance": [],
      "authorship_tag": "ABX9TyN8h48DMMyyBMli+oQc4BY/",
      "include_colab_link": true
    },
    "kernelspec": {
      "name": "python3",
      "display_name": "Python 3"
    },
    "language_info": {
      "name": "python"
    }
  },
  "cells": [
    {
      "cell_type": "markdown",
      "metadata": {
        "id": "view-in-github",
        "colab_type": "text"
      },
      "source": [
        "<a href=\"https://colab.research.google.com/github/microprediction/precise/blob/main/examples_colab_notebooks/partial_moments_cov_estimation.ipynb\" target=\"_parent\"><img src=\"https://colab.research.google.com/assets/colab-badge.svg\" alt=\"Open In Colab\"/></a>"
      ]
    },
    {
      "cell_type": "code",
      "execution_count": null,
      "metadata": {
        "id": "U6Mky28wX5y8"
      },
      "outputs": [],
      "source": [
        "!pip install git+https://github.com/microprediction/precise.git"
      ]
    },
    {
      "cell_type": "markdown",
      "source": [
        "Illustrates use of the precise package\n",
        "\n",
        "\n",
        "\n",
        "1.   Pick a skater\n",
        "2.   Run it\n",
        "\n"
      ],
      "metadata": {
        "id": "fY3DQOlwX-MU"
      }
    },
    {
      "cell_type": "code",
      "source": [
        "from precise.skatertools.syntheticdata.miscellaneous import create_correlated_dataset\n",
        "from precise.skaters.covariance.ewapm import ewa_pm_emp_scov_r01 # <- skater\n",
        "from pprint import pprint\n",
        "\n",
        "if __name__=='__main__':\n",
        "    ys = create_correlated_dataset(n=500)\n",
        "    s = {}   # <-- Note the initialization of state as empty dict\n",
        "    for y in ys:\n",
        "        x, x_cov, s = ewa_pm_emp_scov_r01(s=s, y=y)\n",
        "    pprint(x_cov)"
      ],
      "metadata": {
        "colab": {
          "base_uri": "https://localhost:8080/"
        },
        "id": "Gbi01UFRYJwb",
        "outputId": "a8accdd1-3f49-4080-fcbb-40208b247d3c"
      },
      "execution_count": 14,
      "outputs": [
        {
          "output_type": "stream",
          "name": "stdout",
          "text": [
            "array([[ 5.12896239, 10.85547503,  3.79888203],\n",
            "       [10.85547503, 29.63754017, 13.93654593],\n",
            "       [ 3.79888203, 13.93654593,  8.31146122]])\n"
          ]
        }
      ]
    },
    {
      "cell_type": "markdown",
      "source": [
        "If you care to peek you can look at the state too. In particular, this skater maintains four different covariance matrices using data conditioned on up/down moves. "
      ],
      "metadata": {
        "id": "M2UPPFKeYcTj"
      }
    },
    {
      "cell_type": "code",
      "source": [
        "partials = ['cu','du','dl','cl']\n",
        "for pt in partials:\n",
        "  pprint((pt,s[pt]['scov'])) # <-- Partial sample covariance "
      ],
      "metadata": {
        "colab": {
          "base_uri": "https://localhost:8080/"
        },
        "id": "G2Klm0PPYbUL",
        "outputId": "69452018-3f78-4759-877c-c7e9d954bae6"
      },
      "execution_count": 12,
      "outputs": [
        {
          "output_type": "stream",
          "name": "stdout",
          "text": [
            "('cu',\n",
            " array([[ 5.45911923, 12.51927063,  5.27220785],\n",
            "       [12.51927063, 32.6342698 , 14.92104009],\n",
            "       [ 5.27220785, 14.92104009,  7.46873048]]))\n",
            "('du',\n",
            " array([[ 0.        ,  0.        ,  0.        ],\n",
            "       [-0.10545553,  0.00139871,  0.00269523],\n",
            "       [-0.49235465, -0.1743864 ,  0.00976907]]))\n",
            "('dl',\n",
            " array([[ 0.09095655,  0.09051711, -0.41125336],\n",
            "       [ 0.19597264,  0.4899051 ,  0.04768843],\n",
            "       [ 0.0811013 ,  0.22477006,  0.11572808]]))\n",
            "('cl',\n",
            " array([[0.        , 0.        , 0.        ],\n",
            "       [0.        , 0.17181845, 0.24622561],\n",
            "       [0.        , 0.24622561, 0.64839917]]))\n"
          ]
        }
      ]
    },
    {
      "cell_type": "code",
      "source": [
        "# The reported cov estimate is almost the sum of these four\n",
        "import numpy as np \n",
        "c_check = np.zeros((3,3))\n",
        "for pt in partials:\n",
        "  c_check = c_check + s[pt]['scov']\n",
        "pprint(c_check)\n",
        "print(c_check/x_cov)"
      ],
      "metadata": {
        "colab": {
          "base_uri": "https://localhost:8080/"
        },
        "id": "C92FvAgXbK8T",
        "outputId": "4614e31c-567b-4125-d86a-12f77dc0b80d"
      },
      "execution_count": 13,
      "outputs": [
        {
          "output_type": "stream",
          "name": "stdout",
          "text": [
            "array([[ 5.55007578, 12.60978774,  4.86095449],\n",
            "       [12.60978774, 33.29739207, 15.21764935],\n",
            "       [ 4.86095449, 15.21764935,  8.2426268 ]])\n",
            "[[1. 1. 1.]\n",
            " [1. 1. 1.]\n",
            " [1. 1. 1.]]\n"
          ]
        }
      ]
    },
    {
      "cell_type": "markdown",
      "source": [
        "You can find the code pretty easily, and there is a utility for that"
      ],
      "metadata": {
        "id": "ZydBwfuHdAhD"
      }
    },
    {
      "cell_type": "code",
      "source": [
        "from precise.whereami import url_from_skater_name\n",
        "print(url_from_skater_name('ewa_pm_emp_scov_r01'))"
      ],
      "metadata": {
        "colab": {
          "base_uri": "https://localhost:8080/"
        },
        "id": "I1Q6B70wb5nN",
        "outputId": "bb15c8cb-7684-4fe8-cc6f-90a4b9208eb0"
      },
      "execution_count": 15,
      "outputs": [
        {
          "output_type": "stream",
          "name": "stdout",
          "text": [
            "https://github.com/microprediction/precise/blob/main/precise/skaters/covariance/ewapm.py\n"
          ]
        }
      ]
    },
    {
      "cell_type": "markdown",
      "source": [
        "If you don't like it, pull requests are welcome! Here's a complete list of other covariance skaters you can try"
      ],
      "metadata": {
        "id": "tAGehCACdZpG"
      }
    },
    {
      "cell_type": "code",
      "source": [
        "from precise.skaters.covariance.allcovskaters import cov_skater_manifest\n",
        "pprint(cov_skater_manifest())"
      ],
      "metadata": {
        "colab": {
          "base_uri": "https://localhost:8080/"
        },
        "id": "XtrsbS1TdgRD",
        "outputId": "cd8550b8-382c-4ee8-b2fd-b0f964572230"
      },
      "execution_count": 16,
      "outputs": [
        {
          "output_type": "stream",
          "name": "stdout",
          "text": [
            "{'buf_emp_pcov_d0_n100': 'https://github.com/microprediction/precise/blob/main/precise/skaters/covariance/bufemp.py',\n",
            " 'buf_emp_pcov_d0_n20': 'https://github.com/microprediction/precise/blob/main/precise/skaters/covariance/bufemp.py',\n",
            " 'buf_emp_pcov_d0_n50': 'https://github.com/microprediction/precise/blob/main/precise/skaters/covariance/bufemp.py',\n",
            " 'buf_emp_pcov_d1_n100': 'https://github.com/microprediction/precise/blob/main/precise/skaters/covariance/bufemp.py',\n",
            " 'buf_emp_pcov_d1_n20': 'https://github.com/microprediction/precise/blob/main/precise/skaters/covariance/bufemp.py',\n",
            " 'buf_huber_pcov_d0_a05_b2_n100': 'https://github.com/microprediction/precise/blob/main/precise/skaters/covariance/bufhuber.py',\n",
            " 'buf_huber_pcov_d0_a05_b2_n200': 'https://github.com/microprediction/precise/blob/main/precise/skaters/covariance/bufhuber.py',\n",
            " 'buf_huber_pcov_d0_a05_b2_n50': 'https://github.com/microprediction/precise/blob/main/precise/skaters/covariance/bufhuber.py',\n",
            " 'buf_huber_pcov_d0_a1_b2_n100': 'https://github.com/microprediction/precise/blob/main/precise/skaters/covariance/bufhuber.py',\n",
            " 'buf_huber_pcov_d0_a1_b2_n200': 'https://github.com/microprediction/precise/blob/main/precise/skaters/covariance/bufhuber.py',\n",
            " 'buf_huber_pcov_d0_a1_b2_n50': 'https://github.com/microprediction/precise/blob/main/precise/skaters/covariance/bufhuber.py',\n",
            " 'buf_huber_pcov_d0_a1_b5_n100': 'https://github.com/microprediction/precise/blob/main/precise/skaters/covariance/bufhuber.py',\n",
            " 'buf_huber_pcov_d0_a1_b5_n200': 'https://github.com/microprediction/precise/blob/main/precise/skaters/covariance/bufhuber.py',\n",
            " 'buf_huber_pcov_d0_a1_b5_n50': 'https://github.com/microprediction/precise/blob/main/precise/skaters/covariance/bufhuber.py',\n",
            " 'buf_huber_pcov_d1_a1_b2_n100': 'https://github.com/microprediction/precise/blob/main/precise/skaters/covariance/bufhuber.py',\n",
            " 'buf_huber_pcov_d1_a1_b2_n50': 'https://github.com/microprediction/precise/blob/main/precise/skaters/covariance/bufhuber.py',\n",
            " 'buf_sk_ec_pcov_d1_n100': 'https://github.com/microprediction/precise/blob/main/precise/skaters/covariance/bufsk.py',\n",
            " 'buf_sk_emp_pcov_d0_n100': 'https://github.com/microprediction/precise/blob/main/precise/skaters/covariance/bufsk.py',\n",
            " 'buf_sk_gl_pcov_d0_n100': 'https://github.com/microprediction/precise/blob/main/precise/skaters/covariance/bufsk.py',\n",
            " 'buf_sk_gl_pcov_d1_n100': 'https://github.com/microprediction/precise/blob/main/precise/skaters/covariance/bufsk.py',\n",
            " 'buf_sk_glcv_pcov_d0_n100': 'https://github.com/microprediction/precise/blob/main/precise/skaters/covariance/bufsk.py',\n",
            " 'buf_sk_glcv_pcov_d1_n100': 'https://github.com/microprediction/precise/blob/main/precise/skaters/covariance/bufsk.py',\n",
            " 'buf_sk_ld_pcov_d0_n100': 'https://github.com/microprediction/precise/blob/main/precise/skaters/covariance/bufsk.py',\n",
            " 'buf_sk_ld_pcov_d1_n100': 'https://github.com/microprediction/precise/blob/main/precise/skaters/covariance/bufsk.py',\n",
            " 'buf_sk_mcd_pcov_d0_n100': 'https://github.com/microprediction/precise/blob/main/precise/skaters/covariance/bufsk.py',\n",
            " 'buf_sk_mcd_pcov_d1_n100': 'https://github.com/microprediction/precise/blob/main/precise/skaters/covariance/bufsk.py',\n",
            " 'buf_sk_oas_pcov_d0_n100': 'https://github.com/microprediction/precise/blob/main/precise/skaters/covariance/bufsk.py',\n",
            " 'buf_sk_oas_pcov_d1_n100': 'https://github.com/microprediction/precise/blob/main/precise/skaters/covariance/bufsk.py',\n",
            " 'ewa_emp_pcov_d0_r01': 'https://github.com/microprediction/precise/blob/main/precise/skaters/covariance/ewaemp.py',\n",
            " 'ewa_emp_pcov_d0_r02': 'https://github.com/microprediction/precise/blob/main/precise/skaters/covariance/ewaemp.py',\n",
            " 'ewa_emp_pcov_d0_r05': 'https://github.com/microprediction/precise/blob/main/precise/skaters/covariance/ewaemp.py',\n",
            " 'ewa_emp_pcov_d0_r10': 'https://github.com/microprediction/precise/blob/main/precise/skaters/covariance/ewaemp.py',\n",
            " 'ewa_emp_pcov_d1_r01': 'https://github.com/microprediction/precise/blob/main/precise/skaters/covariance/ewaemp.py',\n",
            " 'ewa_emp_pcov_d1_r02': 'https://github.com/microprediction/precise/blob/main/precise/skaters/covariance/ewaemp.py',\n",
            " 'ewa_emp_pcov_d1_r05': 'https://github.com/microprediction/precise/blob/main/precise/skaters/covariance/ewaemp.py',\n",
            " 'ewa_emp_pcov_d1_r10': 'https://github.com/microprediction/precise/blob/main/precise/skaters/covariance/ewaemp.py',\n",
            " 'ewa_lw_scov_d0_r01': 'https://github.com/microprediction/precise/blob/main/precise/skaters/covariance/ewalw.py',\n",
            " 'ewa_lw_scov_d0_r02': 'https://github.com/microprediction/precise/blob/main/precise/skaters/covariance/ewalw.py',\n",
            " 'ewa_lw_scov_d1_r01': 'https://github.com/microprediction/precise/blob/main/precise/skaters/covariance/ewalw.py',\n",
            " 'ewa_lw_scov_d1_r02': 'https://github.com/microprediction/precise/blob/main/precise/skaters/covariance/ewalw.py',\n",
            " 'ewa_lz_scov_d0_rg005_rl01_n100': 'https://github.com/microprediction/precise/blob/main/precise/skaters/covariance/ewalz.py',\n",
            " 'ewa_lz_scov_d0_rg005_rl02_n50': 'https://github.com/microprediction/precise/blob/main/precise/skaters/covariance/ewalz.py',\n",
            " 'ewa_lz_scov_d0_rg01_rl01_n100': 'https://github.com/microprediction/precise/blob/main/precise/skaters/covariance/ewalz.py',\n",
            " 'ewa_pm_emp_scov_r01': 'https://github.com/microprediction/precise/blob/main/precise/skaters/covariance/ewapm.py',\n",
            " 'ewa_pm_emp_scov_r01_t0': 'https://github.com/microprediction/precise/blob/main/precise/skaters/covariance/ewapm.py',\n",
            " 'ewa_pm_emp_scov_r02': 'https://github.com/microprediction/precise/blob/main/precise/skaters/covariance/ewapm.py',\n",
            " 'ewa_pm_emp_scov_r02_t0': 'https://github.com/microprediction/precise/blob/main/precise/skaters/covariance/ewapm.py',\n",
            " 'ewa_pm_emp_scov_r05': 'https://github.com/microprediction/precise/blob/main/precise/skaters/covariance/ewapm.py',\n",
            " 'ewa_pm_emp_scov_r05_t0': 'https://github.com/microprediction/precise/blob/main/precise/skaters/covariance/ewapm.py',\n",
            " 'run_emp_pcov_d0': 'https://github.com/microprediction/precise/blob/main/precise/skaters/covariance/runemp.py',\n",
            " 'run_emp_pcov_d1': 'https://github.com/microprediction/precise/blob/main/precise/skaters/covariance/runemp.py'}\n"
          ]
        }
      ]
    }
  ]
}
