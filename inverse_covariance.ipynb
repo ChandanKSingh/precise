{
  "nbformat": 4,
  "nbformat_minor": 0,
  "metadata": {
    "colab": {
      "name": "inverse_covariance.ipynb",
      "provenance": [],
      "authorship_tag": "ABX9TyNfJ+R2+/OwZ+rluYkwAoug",
      "include_colab_link": true
    },
    "kernelspec": {
      "name": "python3",
      "display_name": "Python 3"
    },
    "language_info": {
      "name": "python"
    }
  },
  "cells": [
    {
      "cell_type": "markdown",
      "metadata": {
        "id": "view-in-github",
        "colab_type": "text"
      },
      "source": [
        "<a href=\"https://colab.research.google.com/github/microprediction/precise/blob/main/inverse_covariance.ipynb\" target=\"_parent\"><img src=\"https://colab.research.google.com/assets/colab-badge.svg\" alt=\"Open In Colab\"/></a>"
      ]
    },
    {
      "cell_type": "code",
      "execution_count": 184,
      "metadata": {
        "colab": {
          "base_uri": "https://localhost:8080/"
        },
        "id": "mxjdypk4cZV-",
        "outputId": "2b5673ea-90e0-4dd8-9dee-80a0a48d8649"
      },
      "outputs": [
        {
          "output_type": "execute_result",
          "data": {
            "text/plain": [
              "array([[ 1.28009093, -0.17315128,  0.04119847],\n",
              "       [-0.17315128,  1.10831699,  0.14330659],\n",
              "       [ 0.04119847,  0.14330659,  1.03479319]])"
            ]
          },
          "metadata": {},
          "execution_count": 184
        }
      ],
      "source": [
        "import numpy as np\n",
        "n = 10\n",
        "n_true = 50\n",
        "X1 = np.random.randn(n,n_true)\n",
        "E1 = np.cov(X1) # n x n\n",
        "P1 = np.linalg.inv(E1)\n",
        "n_train = 24\n",
        "X2 = np.random.multivariate_normal(mean=np.zeros(n), cov = E1, size=n_train) # n_train x n\n",
        "P1[:3,:3]"
      ]
    },
    {
      "cell_type": "code",
      "source": [
        "S = np.cov(np.transpose(X2)) # n x n \n",
        "P2 = np.linalg.inv(S)\n",
        "err2 = np.linalg.norm(P1-P2)\n",
        "err2"
      ],
      "metadata": {
        "colab": {
          "base_uri": "https://localhost:8080/"
        },
        "id": "cwrh6Mt-cler",
        "outputId": "28ab3b76-3e63-41e7-85cb-410f1205a42b"
      },
      "execution_count": 215,
      "outputs": [
        {
          "output_type": "execute_result",
          "data": {
            "text/plain": [
              "6.694635442300702"
            ]
          },
          "metadata": {},
          "execution_count": 215
        }
      ]
    },
    {
      "cell_type": "code",
      "source": [
        "mu = np.squeeze(np.matmul(S,np.ones((n,1))))\n",
        "mu"
      ],
      "metadata": {
        "colab": {
          "base_uri": "https://localhost:8080/"
        },
        "id": "mYZjHxUDfABZ",
        "outputId": "38c11905-1d92-453c-c2e0-6e18409b0302"
      },
      "execution_count": 216,
      "outputs": [
        {
          "output_type": "execute_result",
          "data": {
            "text/plain": [
              "array([ 1.00026654,  1.21087137,  0.54289127, -0.10452896,  0.20019532,\n",
              "        0.61348269,  2.90471695,  1.35524376,  0.53431303, -0.68546138])"
            ]
          },
          "metadata": {},
          "execution_count": 216
        }
      ]
    },
    {
      "cell_type": "code",
      "source": [
        "D = np.diag(mu)\n",
        "D[:3,:3]"
      ],
      "metadata": {
        "colab": {
          "base_uri": "https://localhost:8080/"
        },
        "id": "A2O3NN3fdx_9",
        "outputId": "b8de8dea-4a7b-45d8-d4ac-66ba6e6a33d4"
      },
      "execution_count": 217,
      "outputs": [
        {
          "output_type": "execute_result",
          "data": {
            "text/plain": [
              "array([[1.00026654, 0.        , 0.        ],\n",
              "       [0.        , 1.21087137, 0.        ],\n",
              "       [0.        , 0.        , 0.54289127]])"
            ]
          },
          "metadata": {},
          "execution_count": 217
        }
      ]
    },
    {
      "cell_type": "code",
      "source": [
        "alpha2 = np.linalg.norm(E1-D)"
      ],
      "metadata": {
        "id": "EXjDrmIed8Vk"
      },
      "execution_count": 218,
      "outputs": []
    },
    {
      "cell_type": "code",
      "source": [
        "beta2 = np.linalg.norm(E1-E2)"
      ],
      "metadata": {
        "id": "QmYv6KVHgGKz"
      },
      "execution_count": 219,
      "outputs": []
    },
    {
      "cell_type": "code",
      "source": [
        "rho = alpha2/(alpha2+beta2)\n",
        "Estar = rho*S + (1-rho)*D\n",
        "Pstar = np.linalg.inv(Estar)\n",
        "err_star = np.linalg.norm(P1-Pstar)\n",
        "err_star, rho"
      ],
      "metadata": {
        "colab": {
          "base_uri": "https://localhost:8080/"
        },
        "id": "m5WgSRepgTnt",
        "outputId": "e80d6618-6172-4a72-a5cb-21158ddd0e1c"
      },
      "execution_count": 220,
      "outputs": [
        {
          "output_type": "execute_result",
          "data": {
            "text/plain": [
              "(15.47216781097261, 0.6188792306002491)"
            ]
          },
          "metadata": {},
          "execution_count": 220
        }
      ]
    },
    {
      "cell_type": "code",
      "source": [
        "Dinv = np.linalg.inv(D)\n",
        "Dinv[:3,:3]"
      ],
      "metadata": {
        "colab": {
          "base_uri": "https://localhost:8080/"
        },
        "id": "SAMnY3Bdplqi",
        "outputId": "2f78d5c4-a60f-4c15-d45a-7de8fa1daebc"
      },
      "execution_count": 221,
      "outputs": [
        {
          "output_type": "execute_result",
          "data": {
            "text/plain": [
              "array([[0.99973353, 0.        , 0.        ],\n",
              "       [0.        , 0.82585155, 0.        ],\n",
              "       [0.        , 0.        , 1.84198947]])"
            ]
          },
          "metadata": {},
          "execution_count": 221
        }
      ]
    },
    {
      "cell_type": "code",
      "source": [
        "A = rho/(1-rho)*np.matmul( Dinv, S )\n",
        "I = np.eye(n)\n",
        "np.linalg.norm( rho*S + (1-rho)*D - (1-rho)*np.matmul(D, (I + rho/(1-rho)*np.matmul(Dinv,S) )) )"
      ],
      "metadata": {
        "colab": {
          "base_uri": "https://localhost:8080/"
        },
        "id": "_Bg84w_xq2fO",
        "outputId": "4ff3148d-b912-4cde-8a07-009bdfeb674a"
      },
      "execution_count": 225,
      "outputs": [
        {
          "output_type": "execute_result",
          "data": {
            "text/plain": [
              "3.920151220887736e-16"
            ]
          },
          "metadata": {},
          "execution_count": 225
        }
      ]
    },
    {
      "cell_type": "code",
      "source": [
        "np.linalg.norm( Estar - (1-rho)*np.matmul(D, (I + rho/(1-rho)*np.matmul(Dinv,S) )) )"
      ],
      "metadata": {
        "colab": {
          "base_uri": "https://localhost:8080/"
        },
        "id": "KYRDynzTvqm5",
        "outputId": "52c2cd43-7726-4457-8479-fdc390e04377"
      },
      "execution_count": 226,
      "outputs": [
        {
          "output_type": "execute_result",
          "data": {
            "text/plain": [
              "3.920151220887736e-16"
            ]
          },
          "metadata": {},
          "execution_count": 226
        }
      ]
    },
    {
      "cell_type": "code",
      "source": [
        "Eprime = (1-rho)*np.matmul(D, (I + A ))\n",
        "np.linalg.norm(Eprime-Estar)"
      ],
      "metadata": {
        "colab": {
          "base_uri": "https://localhost:8080/"
        },
        "id": "vqFRc3_krbCU",
        "outputId": "b6eed2a0-0a77-405e-d611-2e6028355070"
      },
      "execution_count": 227,
      "outputs": [
        {
          "output_type": "execute_result",
          "data": {
            "text/plain": [
              "3.920151220887736e-16"
            ]
          },
          "metadata": {},
          "execution_count": 227
        }
      ]
    },
    {
      "cell_type": "code",
      "source": [
        "def hatE(S,rho:float, n_terms:int):\n",
        "    \"\"\" \n",
        "      Estimate precision from empirical covar S and shrinkage rho \n",
        "    \"\"\"\n",
        "    n = np.shape(S)[0]\n",
        "    mu = np.squeeze(np.matmul(S,np.ones((n,1))))\n",
        "    D = np.diag(mu)\n",
        "    Dinv = np.linalg.inv(D)\n",
        "    return (1-rho)*np.matmul(D, (I + rho/(1-rho)*np.matmul(Dinv,S) ))\n",
        "   \n",
        "Ehat = hatE(S=S, rho=rho, n_terms=1)\n",
        "np.linalg.norm(Estar-Ehat)"
      ],
      "metadata": {
        "colab": {
          "base_uri": "https://localhost:8080/"
        },
        "id": "mjR9O8Cqifxa",
        "outputId": "a94b6d7f-9e26-4852-b75c-f330ae2bb35a"
      },
      "execution_count": 228,
      "outputs": [
        {
          "output_type": "execute_result",
          "data": {
            "text/plain": [
              "3.920151220887736e-16"
            ]
          },
          "metadata": {},
          "execution_count": 228
        }
      ]
    },
    {
      "cell_type": "code",
      "source": [
        "def neumann(T, k):\n",
        "   \"\"\"  inv(I-T) via Neumann series \"\"\"\n",
        "   n = np.shape(T)[0]\n",
        "   I = np.eye(n)\n",
        "   Tk = I \n",
        "   Y = np.zeros(n)\n",
        "   for j in range(0,k):\n",
        "      Y = Y + Tk \n",
        "      Tk = np.matmul(Tk,T)\n",
        "   return Y\n",
        "    \n",
        "C = np.array([[0,0.5,0.25],[5./7.,0,1./7.],[3./10.,3./5.,0.]])\n",
        "Q1 = neumann(C,k=50)\n",
        "Q2 = np.linalg.inv(np.eye(3)-C)\n",
        "np.linalg.norm(Q1-Q2)\n"
      ],
      "metadata": {
        "colab": {
          "base_uri": "https://localhost:8080/"
        },
        "id": "EjUOxm5NyXUZ",
        "outputId": "63a77a41-2bdc-4074-cb53-59979b8e5cfe"
      },
      "execution_count": 276,
      "outputs": [
        {
          "output_type": "execute_result",
          "data": {
            "text/plain": [
              "0.0003137031859386907"
            ]
          },
          "metadata": {},
          "execution_count": 276
        }
      ]
    },
    {
      "cell_type": "code",
      "source": [
        "def hatP(S,rho,k):\n",
        "    \"\"\" Well, this doesnt work \"\"\"\n",
        "    n = np.shape(S)[0]\n",
        "    mu = np.squeeze(np.matmul(S,np.ones((n,1))))\n",
        "    D = np.diag(mu)\n",
        "    Dinv = np.linalg.inv(D)\n",
        "    A = rho/(1-rho)*np.matmul(Dinv,S)\n",
        "    print(np.linalg.norm(A))\n",
        "    print(A[:3,:3])\n",
        "    hatPtrue = 1/(1-rho)*np.matmul(np.linalg.inv(I + A ),Dinv  )\n",
        "    hatPapprox = 1/(1-rho)*np.matmul(neumann(-A,k=k ),Dinv  )\n",
        "    return hatPapprox\n",
        "\n",
        "Phat = hatP(S=S,rho=rho, k=1)\n",
        "np.linalg.norm(Phat-Pstar)"
      ],
      "metadata": {
        "colab": {
          "base_uri": "https://localhost:8080/"
        },
        "id": "pE4LsXtuk2B0",
        "outputId": "307a5817-d9c9-4a8d-f263-f2bd07d73c4b"
      },
      "execution_count": 273,
      "outputs": [
        {
          "output_type": "stream",
          "name": "stdout",
          "text": [
            "16.800920353026694\n",
            "[[ 1.36085925 -0.09933846  0.29586379]\n",
            " [-0.08206069  1.22388106 -0.20744953]\n",
            " [ 0.54512325 -0.46269798  2.61838924]]\n"
          ]
        },
        {
          "output_type": "execute_result",
          "data": {
            "text/plain": [
              "34.802077164859526"
            ]
          },
          "metadata": {},
          "execution_count": 273
        }
      ]
    },
    {
      "cell_type": "code",
      "source": [
        ""
      ],
      "metadata": {
        "colab": {
          "base_uri": "https://localhost:8080/"
        },
        "id": "DIjM5651lGYU",
        "outputId": "22e71311-7fc9-423d-e804-f1c34d82f362"
      },
      "execution_count": 86,
      "outputs": [
        {
          "output_type": "execute_result",
          "data": {
            "text/plain": [
              "(7.9560681004217955, 0.8397639648277383)"
            ]
          },
          "metadata": {},
          "execution_count": 86
        }
      ]
    }
  ]
}