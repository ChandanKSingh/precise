{
  "nbformat": 4,
  "nbformat_minor": 0,
  "metadata": {
    "colab": {
      "name": "running_empirical_population_covariance.ipynb",
      "provenance": [],
      "authorship_tag": "ABX9TyNFztYRkxax7JfClcGxKFqu",
      "include_colab_link": true
    },
    "kernelspec": {
      "name": "python3",
      "display_name": "Python 3"
    },
    "language_info": {
      "name": "python"
    }
  },
  "cells": [
    {
      "cell_type": "markdown",
      "metadata": {
        "id": "view-in-github",
        "colab_type": "text"
      },
      "source": [
        "<a href=\"https://colab.research.google.com/github/microprediction/precise/blob/main/running_empirical_population_covariance.ipynb\" target=\"_parent\"><img src=\"https://colab.research.google.com/assets/colab-badge.svg\" alt=\"Open In Colab\"/></a>"
      ]
    },
    {
      "cell_type": "code",
      "execution_count": null,
      "metadata": {
        "id": "U6Mky28wX5y8"
      },
      "outputs": [],
      "source": [
        "!pip install git+https://github.com/microprediction/precise.git"
      ]
    },
    {
      "cell_type": "markdown",
      "source": [
        "Example to illustrate usage style of the precise package"
      ],
      "metadata": {
        "id": "fY3DQOlwX-MU"
      }
    },
    {
      "cell_type": "code",
      "source": [
        "from precise.skatertools.syntheticdata.miscellaneous import create_correlated_dataset\n",
        "from precise.skaters.covariance.runemp import run_emp_pcov_d0\n",
        "from pprint import pprint\n",
        "\n",
        "# Basic example of running empirical population covariance\n",
        "\n",
        "if __name__=='__main__':\n",
        "    ys = create_correlated_dataset(n=500)\n",
        "    s = {}\n",
        "    for y in ys:\n",
        "        x, x_cov, s = run_emp_pcov_d0(s=s, y=y)\n",
        "    pprint(x_cov)"
      ],
      "metadata": {
        "colab": {
          "base_uri": "https://localhost:8080/"
        },
        "id": "Gbi01UFRYJwb",
        "outputId": "19960e68-9f6f-47a4-b443-e0c65d4c9619"
      },
      "execution_count": 3,
      "outputs": [
        {
          "output_type": "stream",
          "name": "stdout",
          "text": [
            "array([[0.38107168, 1.52673498, 0.72655086],\n",
            "       [1.52673498, 9.29830474, 6.18007495],\n",
            "       [0.72655086, 6.18007495, 4.8287917 ]])\n"
          ]
        }
      ]
    },
    {
      "cell_type": "markdown",
      "source": [
        "If you care to peek you can look at the state too"
      ],
      "metadata": {
        "id": "M2UPPFKeYcTj"
      }
    },
    {
      "cell_type": "code",
      "source": [
        "pprint(s)"
      ],
      "metadata": {
        "colab": {
          "base_uri": "https://localhost:8080/"
        },
        "id": "G2Klm0PPYbUL",
        "outputId": "7484b5cb-4944-43c4-93af-c642511a7952"
      },
      "execution_count": 4,
      "outputs": [
        {
          "output_type": "stream",
          "name": "stdout",
          "text": [
            "{'mean': array([2.20824683, 4.51516293, 1.59295951]),\n",
            " 'n_dim': 3,\n",
            " 'n_samples': 500,\n",
            " 'ones': array([1., 1., 1.]),\n",
            " 'pcov': array([[0.38107168, 1.52673498, 0.72655086],\n",
            "       [1.52673498, 9.29830474, 6.18007495],\n",
            "       [0.72655086, 6.18007495, 4.8287917 ]]),\n",
            " 'shape': (3, 3)}\n"
          ]
        }
      ]
    }
  ]
}