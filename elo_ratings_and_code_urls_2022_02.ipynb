{
  "nbformat": 4,
  "nbformat_minor": 0,
  "metadata": {
    "colab": {
      "name": "elo_ratings_and_code_urls_2022_02.ipynb",
      "provenance": [],
      "authorship_tag": "ABX9TyOn7972shpERxb+yssB4/aB",
      "include_colab_link": true
    },
    "kernelspec": {
      "name": "python3",
      "display_name": "Python 3"
    },
    "language_info": {
      "name": "python"
    }
  },
  "cells": [
    {
      "cell_type": "markdown",
      "metadata": {
        "id": "view-in-github",
        "colab_type": "text"
      },
      "source": [
        "<a href=\"https://colab.research.google.com/github/microprediction/precise/blob/main/elo_ratings_and_code_urls_2022_02.ipynb\" target=\"_parent\"><img src=\"https://colab.research.google.com/assets/colab-badge.svg\" alt=\"Open In Colab\"/></a>"
      ]
    },
    {
      "cell_type": "code",
      "execution_count": null,
      "metadata": {
        "id": "SIHJnIVINZ7b"
      },
      "outputs": [],
      "source": [
        "!pip install git+https://github.com/microprediction/precise.git"
      ]
    },
    {
      "cell_type": "markdown",
      "source": [
        "### Report current Elo ratings\n",
        "Be a little patient"
      ],
      "metadata": {
        "id": "Cd0J8WX-RelH"
      }
    },
    {
      "cell_type": "code",
      "source": [
        "from precise.skatervaluation.battleutil.compilingeloratings import elo_from_win_files\n",
        "from pprint import pprint \n",
        "elos = elo_from_win_files()"
      ],
      "metadata": {
        "id": "Qy-f0jV3NkGn"
      },
      "execution_count": null,
      "outputs": []
    },
    {
      "cell_type": "code",
      "source": [
        "the_categories = [c for c,_ in elos]\n",
        "print(the_categories)"
      ],
      "metadata": {
        "colab": {
          "base_uri": "https://localhost:8080/"
        },
        "id": "61YqUwxpUnMy",
        "outputId": "7f329c39-94e9-4ec4-ecf0-b9815ed07b56"
      },
      "execution_count": null,
      "outputs": [
        {
          "output_type": "stream",
          "name": "stdout",
          "text": [
            "['m6_stocks_daily_p5_n300', 'm6_stocks_daily_p25_n300', 'm6_daily_p25_n300']\n"
          ]
        }
      ]
    },
    {
      "cell_type": "code",
      "source": [
        "pprint(elos)"
      ],
      "metadata": {
        "colab": {
          "base_uri": "https://localhost:8080/"
        },
        "id": "JMz5kyDwSR_f",
        "outputId": "c1376425-37eb-49f2-cb71-8d95e1a9b426"
      },
      "execution_count": null,
      "outputs": [
        {
          "output_type": "stream",
          "name": "stdout",
          "text": [
            "[('m6_stocks_daily_p5_n300',\n",
            "  Counter({'ewa_emp_pcov_d0_r01': 2091.8977516889395,\n",
            "           'ewa_pm_emp_scov_r01_n100': 1952.0864535109513,\n",
            "           'run_emp_pcov_d0': 1932.5330963499375,\n",
            "           'ewa_pm_emp_scov_r01_n200': 1876.003622778621,\n",
            "           'ewa_pm_emp_scov_r05_n25': 1848.6763233086199,\n",
            "           'ewa_pm_emp_scov_r02_n100': 1830.54761686684,\n",
            "           'buf_sk_ld_pcov_d0_n100': 1819.8616045359336,\n",
            "           'buf_sk_oas_pcov_d0_n100': 1805.0480091203092,\n",
            "           'ewa_pm_emp_scov_r02_n50': 1790.2796052908604,\n",
            "           'ewa_emp_pcov_d0_r02': 1750.135247341709,\n",
            "           'buf_huber_pcov_d0_a05_b2_n200': 1705.1345509450466,\n",
            "           'buf_huber_pcov_d0_a1_b5_n200': 1677.4827940573975,\n",
            "           'buf_sk_glcv_pcov_d0_n100': 1652.1133177014583,\n",
            "           'buf_huber_pcov_d0_a1_b2_n200': 1624.3358488766835,\n",
            "           'buf_emp_pcov_d0_n100': 1593.6566449694371,\n",
            "           'buf_huber_pcov_d0_a05_b2_n100': 1591.3394989012654,\n",
            "           'ewa_lz_scov_d0_rg005_rl02_n50': 1555.548769569788,\n",
            "           'buf_huber_pcov_d0_a1_b5_n100': 1545.1855491938852,\n",
            "           'buf_sk_emp_pcov_d0_n100': 1541.95437180324,\n",
            "           'ewa_lz_scov_d0_rg01_rl01_n100': 1492.8513280945235,\n",
            "           'buf_huber_pcov_d0_a1_b2_n100': 1475.971923828155,\n",
            "           'buf_huber_pcov_d0_a1_b5_n50': 1380.3080012275423,\n",
            "           'buf_emp_pcov_d0_n50': 1369.719882727501,\n",
            "           'ewa_pm_emp_scov_r05_n50': 1356.9771814160197,\n",
            "           'buf_huber_pcov_d0_a1_b2_n50': 1318.8519752768125,\n",
            "           'ewa_emp_pcov_d0_r05': 1267.2840020814674,\n",
            "           'buf_huber_pcov_d0_a05_b2_n50': 1265.423950309388,\n",
            "           'ewa_lw_scov_d0_r01': 1142.7730506607422,\n",
            "           'buf_sk_gl_pcov_d0_n100': 1139.769748968394,\n",
            "           'ewa_lw_scov_d0_r02': 1069.7732710633823,\n",
            "           'ewa_lz_scov_d0_rg005_rl01_n100': 1046.7570459988804,\n",
            "           'ewa_emp_pcov_d0_r10': 935.5280464306757,\n",
            "           'buf_sk_mcd_pcov_d0_n100': 821.3373300388855,\n",
            "           'buf_emp_pcov_d0_n20': 732.8525850667072})),\n",
            " ('m6_stocks_daily_p25_n300',\n",
            "  Counter({'ewa_pm_emp_scov_r01': 2736.3523878290184,\n",
            "           'ewa_pm_emp_scov_r01_t0': 2709.7108127825386,\n",
            "           'run_emp_pcov_d0': 2498.9960389382254,\n",
            "           'ewa_emp_pcov_d0_r01': 2460.2184870342794,\n",
            "           'buf_sk_ld_pcov_d0_n100': 2243.3159498541468,\n",
            "           'ewa_pm_emp_scov_r01_n200': 2201.79330551826,\n",
            "           'buf_sk_glcv_pcov_d0_n100': 2199.147779293328,\n",
            "           'buf_sk_oas_pcov_d0_n100': 2179.427295964635,\n",
            "           'buf_huber_pcov_d0_a1_b5_n200': 2162.0497408207466,\n",
            "           'buf_huber_pcov_d0_a05_b2_n200': 2034.9069027002395,\n",
            "           'ewa_pm_emp_scov_r01_n100': 2009.3873693843664,\n",
            "           'buf_huber_pcov_d0_a1_b2_n200': 1960.5170044997767,\n",
            "           'ewa_pm_emp_scov_r02_t0': 1809.8288023691816,\n",
            "           'ewa_pm_emp_scov_r02': 1805.2483807632632,\n",
            "           'ewa_pm_emp_scov_r02_n100': 1763.4762553886826,\n",
            "           'ewa_emp_pcov_d0_r02': 1700.1256258066808,\n",
            "           'ewa_pm_emp_scov_r05_n25': 1694.1268728697712,\n",
            "           'ewa_pm_emp_scov_r02_n50': 1633.462530403563,\n",
            "           'ewa_lz_scov_d0_rg005_rl02_n50': 1630.1524871141248,\n",
            "           'ewa_lz_scov_d0_rg01_rl01_n100': 1546.3143303314553,\n",
            "           'buf_sk_emp_pcov_d0_n100': 1517.5785877832893,\n",
            "           'buf_emp_pcov_d0_n100': 1515.640029901617,\n",
            "           'buf_huber_pcov_d0_a1_b5_n100': 1493.3408410916627,\n",
            "           'buf_huber_pcov_d0_a05_b2_n100': 1398.77672621358,\n",
            "           'buf_huber_pcov_d0_a1_b2_n100': 1318.0176750336611,\n",
            "           'ewa_lz_scov_d0_rg005_rl01_n100': 1260.4626609588568,\n",
            "           'ewa_pm_emp_scov_r05_n50': 1198.3946359117244,\n",
            "           'buf_sk_gl_pcov_d0_n100': 1151.0626340289998,\n",
            "           'ewa_lw_scov_d0_r01': 1094.3331354504965,\n",
            "           'ewa_lw_scov_d0_r02': 1007.2187508533985,\n",
            "           'ewa_pm_emp_scov_r05_t0': 906.9314584860538,\n",
            "           'ewa_pm_emp_scov_r05': 848.1607218814717,\n",
            "           'buf_emp_pcov_d0_n20': 834.4831340884651,\n",
            "           'ewa_emp_pcov_d0_r05': 811.7386408467377,\n",
            "           'buf_emp_pcov_d0_n50': 700.5412046247012,\n",
            "           'buf_huber_pcov_d0_a1_b5_n50': 618.2493344261421,\n",
            "           'buf_huber_pcov_d0_a05_b2_n50': 521.0470117415803,\n",
            "           'buf_huber_pcov_d0_a1_b2_n50': 396.257948639609,\n",
            "           'buf_sk_mcd_pcov_d0_n100': 331.4617123393854,\n",
            "           'ewa_emp_pcov_d0_r10': 97.74479603227176})),\n",
            " ('m6_daily_p25_n300',\n",
            "  Counter({'ewa_pm_emp_scov_r01_n200_t0': 2111.838042184667,\n",
            "           'ewa_pm_emp_scov_r01_n200': 2097.4293787639026,\n",
            "           'run_emp_pcov_d0': 2007.606470274644,\n",
            "           'ewa_pm_emp_scov_r01_n100': 1994.7639314756786,\n",
            "           'ewa_pm_emp_scov_r01_n100_t0': 1986.1371604691155,\n",
            "           'ewa_emp_pcov_d0_r01': 1901.0707918265375,\n",
            "           'buf_sk_ld_pcov_d0_n100': 1842.9790830046531,\n",
            "           'buf_sk_oas_pcov_d0_n200': 1825.167882449603,\n",
            "           'buf_sk_oas_pcov_d0_n300': 1805.5635324643474,\n",
            "           'buf_sk_oas_pcov_d0_n100': 1799.700383841623,\n",
            "           'buf_sk_glcv_pcov_d0_n200': 1786.7751225633572,\n",
            "           'buf_huber_pcov_d0_a05_b2_n200': 1758.2819500907876,\n",
            "           'buf_huber_pcov_d0_a1_b5_n200': 1745.977854996599,\n",
            "           'buf_sk_glcv_pcov_d0_n100': 1739.5988196476078,\n",
            "           'buf_sk_ld_pcov_d0_n300': 1686.7571673673713,\n",
            "           'buf_huber_pcov_d0_a1_b2_n200': 1682.7258332936285,\n",
            "           'buf_sk_glcv_pcov_d0_n300': 1680.8213541266891,\n",
            "           'ewa_pm_emp_scov_r02_n50_t0': 1678.84191253981,\n",
            "           'ewa_pm_emp_scov_r05_n25_t0': 1641.4481804673483,\n",
            "           'buf_sk_glcv_pcov_d0_n200_t0': 1637.2579763294134,\n",
            "           'ewa_pm_emp_scov_r02_n100_t0': 1632.2216968652015,\n",
            "           'ewa_pm_emp_scov_r02_n50': 1630.0547501813332,\n",
            "           'buf_sk_glcv_pcov_d0_n100_t0': 1614.7509631602713,\n",
            "           'ewa_emp_pcov_d0_r02': 1572.6244188634903,\n",
            "           'ewa_pm_emp_scov_r05_n25': 1568.172905390972,\n",
            "           'ewa_pm_emp_scov_r02_n100': 1563.8331718700208,\n",
            "           'ewa_lw_scov_d0_r01': 1529.261334752999,\n",
            "           'buf_sk_ld_pcov_d0_n200': 1518.1305418404688,\n",
            "           'buf_sk_gl_pcov_d0_n200': 1474.8402568094264,\n",
            "           'buf_sk_gl_pcov_d0_n100': 1432.0541578967209,\n",
            "           'ewa_lz_scov_d0_rg01_rl01_n100': 1418.6075410142007,\n",
            "           'ewa_lw_scov_d0_r02': 1402.7325729722738,\n",
            "           'buf_emp_pcov_d0_n100': 1389.2116331054422,\n",
            "           'buf_sk_emp_pcov_d0_n100': 1336.4564860879304,\n",
            "           'buf_huber_pcov_d0_a1_b5_n100': 1315.8039638016025,\n",
            "           'ewa_lz_scov_d0_rg005_rl02_n50': 1291.6190448992527,\n",
            "           'buf_huber_pcov_d0_a05_b2_n100': 1291.0877379815568,\n",
            "           'ewa_lz_scov_d0_rg005_rl01_n100': 1288.5104373905901,\n",
            "           'buf_huber_pcov_d0_a1_b2_n100': 1223.4180715454559,\n",
            "           'ewa_emp_pcov_d0_r05': 1204.6635955051458,\n",
            "           'ewa_pm_emp_scov_r05_n50': 1188.6744543756095,\n",
            "           'ewa_pm_emp_scov_r05_n50_t0': 1132.879539687231,\n",
            "           'buf_emp_pcov_d0_n50': 1039.0486846253202,\n",
            "           'buf_emp_pcov_d0_n20': 958.8494238950236,\n",
            "           'buf_huber_pcov_d0_a1_b5_n50': 948.7547292669032,\n",
            "           'buf_huber_pcov_d0_a05_b2_n50': 879.9191450683343,\n",
            "           'buf_sk_mcd_pcov_d0_n100': 806.3761637065817,\n",
            "           'buf_huber_pcov_d0_a1_b2_n50': 805.1021727609459,\n",
            "           'ewa_emp_pcov_d0_r10': 631.597576502312}))]\n"
          ]
        }
      ]
    },
    {
      "cell_type": "markdown",
      "source": [
        "## Print Elos and code locations"
      ],
      "metadata": {
        "id": "jOL4sI47R1vD"
      }
    },
    {
      "cell_type": "code",
      "source": [
        "from precise.whereami import url_from_skater_name\n",
        "n_top = 15 # <-- Number to print per category\n",
        "results_with_urls = dict()\n",
        "for cat, cat_elos in elos:\n",
        "    elos_w_code = sorted( [ (rating,name, url_from_skater_name(name)) for name,rating in cat_elos.items()],reverse=True)[:n_top]\n",
        "    results_with_urls[cat] = elos_w_code\n",
        "pprint(results_with_urls)"
      ],
      "metadata": {
        "colab": {
          "base_uri": "https://localhost:8080/"
        },
        "id": "ASbpDgVpR4_6",
        "outputId": "e468521f-6289-4fe5-e03a-42d656d6e32a"
      },
      "execution_count": null,
      "outputs": [
        {
          "output_type": "stream",
          "name": "stdout",
          "text": [
            "{'m6_daily_p25_n300': [(2111.838042184667,\n",
            "                        'ewa_pm_emp_scov_r01_n200_t0',\n",
            "                        'https://github.com/microprediction/precise/blob/main/precise/skaters/covariance/ewapm.py'),\n",
            "                       (2097.4293787639026,\n",
            "                        'ewa_pm_emp_scov_r01_n200',\n",
            "                        'https://github.com/microprediction/precise/blob/main/precise/skaters/covariance/ewapm.py'),\n",
            "                       (2007.606470274644,\n",
            "                        'run_emp_pcov_d0',\n",
            "                        'https://github.com/microprediction/precise/blob/main/precise/skaters/covariance/runemp.py'),\n",
            "                       (1994.7639314756786,\n",
            "                        'ewa_pm_emp_scov_r01_n100',\n",
            "                        'https://github.com/microprediction/precise/blob/main/precise/skaters/covariance/ewapm.py'),\n",
            "                       (1986.1371604691155,\n",
            "                        'ewa_pm_emp_scov_r01_n100_t0',\n",
            "                        'https://github.com/microprediction/precise/blob/main/precise/skaters/covariance/ewapm.py'),\n",
            "                       (1901.0707918265375,\n",
            "                        'ewa_emp_pcov_d0_r01',\n",
            "                        'https://github.com/microprediction/precise/blob/main/precise/skaters/covariance/ewaemp.py'),\n",
            "                       (1842.9790830046531,\n",
            "                        'buf_sk_ld_pcov_d0_n100',\n",
            "                        'https://github.com/microprediction/precise/blob/main/precise/skaters/covariance/bufsk.py'),\n",
            "                       (1825.167882449603,\n",
            "                        'buf_sk_oas_pcov_d0_n200',\n",
            "                        'https://github.com/microprediction/precise/blob/main/precise/skaters/covariance/bufsk.py'),\n",
            "                       (1805.5635324643474,\n",
            "                        'buf_sk_oas_pcov_d0_n300',\n",
            "                        'https://github.com/microprediction/precise/blob/main/precise/skaters/covariance/bufsk.py'),\n",
            "                       (1799.700383841623,\n",
            "                        'buf_sk_oas_pcov_d0_n100',\n",
            "                        'https://github.com/microprediction/precise/blob/main/precise/skaters/covariance/bufsk.py'),\n",
            "                       (1786.7751225633572,\n",
            "                        'buf_sk_glcv_pcov_d0_n200',\n",
            "                        'https://github.com/microprediction/precise/blob/main/precise/skaters/covariance/bufsk.py'),\n",
            "                       (1758.2819500907876,\n",
            "                        'buf_huber_pcov_d0_a05_b2_n200',\n",
            "                        'https://github.com/microprediction/precise/blob/main/precise/skaters/covariance/bufhuber.py'),\n",
            "                       (1745.977854996599,\n",
            "                        'buf_huber_pcov_d0_a1_b5_n200',\n",
            "                        'https://github.com/microprediction/precise/blob/main/precise/skaters/covariance/bufhuber.py'),\n",
            "                       (1739.5988196476078,\n",
            "                        'buf_sk_glcv_pcov_d0_n100',\n",
            "                        'https://github.com/microprediction/precise/blob/main/precise/skaters/covariance/bufsk.py'),\n",
            "                       (1686.7571673673713,\n",
            "                        'buf_sk_ld_pcov_d0_n300',\n",
            "                        'https://github.com/microprediction/precise/blob/main/precise/skaters/covariance/bufsk.py')],\n",
            " 'm6_stocks_daily_p25_n300': [(2736.3523878290184,\n",
            "                               'ewa_pm_emp_scov_r01',\n",
            "                               'https://github.com/microprediction/precise/blob/main/precise/skaters/covariance/ewapm.py'),\n",
            "                              (2709.7108127825386,\n",
            "                               'ewa_pm_emp_scov_r01_t0',\n",
            "                               'https://github.com/microprediction/precise/blob/main/precise/skaters/covariance/ewapm.py'),\n",
            "                              (2498.9960389382254,\n",
            "                               'run_emp_pcov_d0',\n",
            "                               'https://github.com/microprediction/precise/blob/main/precise/skaters/covariance/runemp.py'),\n",
            "                              (2460.2184870342794,\n",
            "                               'ewa_emp_pcov_d0_r01',\n",
            "                               'https://github.com/microprediction/precise/blob/main/precise/skaters/covariance/ewaemp.py'),\n",
            "                              (2243.3159498541468,\n",
            "                               'buf_sk_ld_pcov_d0_n100',\n",
            "                               'https://github.com/microprediction/precise/blob/main/precise/skaters/covariance/bufsk.py'),\n",
            "                              (2201.79330551826,\n",
            "                               'ewa_pm_emp_scov_r01_n200',\n",
            "                               'https://github.com/microprediction/precise/blob/main/precise/skaters/covariance/ewapm.py'),\n",
            "                              (2199.147779293328,\n",
            "                               'buf_sk_glcv_pcov_d0_n100',\n",
            "                               'https://github.com/microprediction/precise/blob/main/precise/skaters/covariance/bufsk.py'),\n",
            "                              (2179.427295964635,\n",
            "                               'buf_sk_oas_pcov_d0_n100',\n",
            "                               'https://github.com/microprediction/precise/blob/main/precise/skaters/covariance/bufsk.py'),\n",
            "                              (2162.0497408207466,\n",
            "                               'buf_huber_pcov_d0_a1_b5_n200',\n",
            "                               'https://github.com/microprediction/precise/blob/main/precise/skaters/covariance/bufhuber.py'),\n",
            "                              (2034.9069027002395,\n",
            "                               'buf_huber_pcov_d0_a05_b2_n200',\n",
            "                               'https://github.com/microprediction/precise/blob/main/precise/skaters/covariance/bufhuber.py'),\n",
            "                              (2009.3873693843664,\n",
            "                               'ewa_pm_emp_scov_r01_n100',\n",
            "                               'https://github.com/microprediction/precise/blob/main/precise/skaters/covariance/ewapm.py'),\n",
            "                              (1960.5170044997767,\n",
            "                               'buf_huber_pcov_d0_a1_b2_n200',\n",
            "                               'https://github.com/microprediction/precise/blob/main/precise/skaters/covariance/bufhuber.py'),\n",
            "                              (1809.8288023691816,\n",
            "                               'ewa_pm_emp_scov_r02_t0',\n",
            "                               'https://github.com/microprediction/precise/blob/main/precise/skaters/covariance/ewapm.py'),\n",
            "                              (1805.2483807632632,\n",
            "                               'ewa_pm_emp_scov_r02',\n",
            "                               'https://github.com/microprediction/precise/blob/main/precise/skaters/covariance/ewapm.py'),\n",
            "                              (1763.4762553886826,\n",
            "                               'ewa_pm_emp_scov_r02_n100',\n",
            "                               'https://github.com/microprediction/precise/blob/main/precise/skaters/covariance/ewapm.py')],\n",
            " 'm6_stocks_daily_p5_n300': [(2091.8977516889395,\n",
            "                              'ewa_emp_pcov_d0_r01',\n",
            "                              'https://github.com/microprediction/precise/blob/main/precise/skaters/covariance/ewaemp.py'),\n",
            "                             (1952.0864535109513,\n",
            "                              'ewa_pm_emp_scov_r01_n100',\n",
            "                              'https://github.com/microprediction/precise/blob/main/precise/skaters/covariance/ewapm.py'),\n",
            "                             (1932.5330963499375,\n",
            "                              'run_emp_pcov_d0',\n",
            "                              'https://github.com/microprediction/precise/blob/main/precise/skaters/covariance/runemp.py'),\n",
            "                             (1876.003622778621,\n",
            "                              'ewa_pm_emp_scov_r01_n200',\n",
            "                              'https://github.com/microprediction/precise/blob/main/precise/skaters/covariance/ewapm.py'),\n",
            "                             (1848.6763233086199,\n",
            "                              'ewa_pm_emp_scov_r05_n25',\n",
            "                              'https://github.com/microprediction/precise/blob/main/precise/skaters/covariance/ewapm.py'),\n",
            "                             (1830.54761686684,\n",
            "                              'ewa_pm_emp_scov_r02_n100',\n",
            "                              'https://github.com/microprediction/precise/blob/main/precise/skaters/covariance/ewapm.py'),\n",
            "                             (1819.8616045359336,\n",
            "                              'buf_sk_ld_pcov_d0_n100',\n",
            "                              'https://github.com/microprediction/precise/blob/main/precise/skaters/covariance/bufsk.py'),\n",
            "                             (1805.0480091203092,\n",
            "                              'buf_sk_oas_pcov_d0_n100',\n",
            "                              'https://github.com/microprediction/precise/blob/main/precise/skaters/covariance/bufsk.py'),\n",
            "                             (1790.2796052908604,\n",
            "                              'ewa_pm_emp_scov_r02_n50',\n",
            "                              'https://github.com/microprediction/precise/blob/main/precise/skaters/covariance/ewapm.py'),\n",
            "                             (1750.135247341709,\n",
            "                              'ewa_emp_pcov_d0_r02',\n",
            "                              'https://github.com/microprediction/precise/blob/main/precise/skaters/covariance/ewaemp.py'),\n",
            "                             (1705.1345509450466,\n",
            "                              'buf_huber_pcov_d0_a05_b2_n200',\n",
            "                              'https://github.com/microprediction/precise/blob/main/precise/skaters/covariance/bufhuber.py'),\n",
            "                             (1677.4827940573975,\n",
            "                              'buf_huber_pcov_d0_a1_b5_n200',\n",
            "                              'https://github.com/microprediction/precise/blob/main/precise/skaters/covariance/bufhuber.py'),\n",
            "                             (1652.1133177014583,\n",
            "                              'buf_sk_glcv_pcov_d0_n100',\n",
            "                              'https://github.com/microprediction/precise/blob/main/precise/skaters/covariance/bufsk.py'),\n",
            "                             (1624.3358488766835,\n",
            "                              'buf_huber_pcov_d0_a1_b2_n200',\n",
            "                              'https://github.com/microprediction/precise/blob/main/precise/skaters/covariance/bufhuber.py'),\n",
            "                             (1593.6566449694371,\n",
            "                              'buf_emp_pcov_d0_n100',\n",
            "                              'https://github.com/microprediction/precise/blob/main/precise/skaters/covariance/bufemp.py')]}\n"
          ]
        }
      ]
    }
  ]
}